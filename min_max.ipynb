{
 "cells": [
  {
   "cell_type": "code",
   "execution_count": 14,
   "id": "24c323f4-7744-4985-a6e2-30e0d6b840dc",
   "metadata": {},
   "outputs": [
    {
     "name": "stdin",
     "output_type": "stream",
     "text": [
      "enter unsorted array:- 23,67,12,78,43,22,90,43\n"
     ]
    },
    {
     "name": "stdout",
     "output_type": "stream",
     "text": [
      "Minimum element:- 12\n",
      "Maximum element:- 90\n"
     ]
    }
   ],
   "source": [
    "#Find the minimum and maximum element from unsorted array... Without using sort, min, max function\n",
    "\n",
    "li=list(map(int,input(\"enter unsorted array:-\").split(',')))\n",
    "min=max=li[0]\n",
    "for i in li:\n",
    "    if i<min:\n",
    "        min=i\n",
    "    elif i>max:\n",
    "        max=i\n",
    "print(\"Minimum element:-\",min)\n",
    "print(\"Maximum element:-\",max)"
   ]
  },
  {
   "cell_type": "code",
   "execution_count": null,
   "id": "5eef49dc-a5c4-4a1b-b945-07b1fab5738a",
   "metadata": {},
   "outputs": [],
   "source": []
  },
  {
   "cell_type": "code",
   "execution_count": null,
   "id": "b5611323-e761-42f2-9c04-bcf38133d0ab",
   "metadata": {},
   "outputs": [],
   "source": []
  }
 ],
 "metadata": {
  "kernelspec": {
   "display_name": "Python 3 (ipykernel)",
   "language": "python",
   "name": "python3"
  },
  "language_info": {
   "codemirror_mode": {
    "name": "ipython",
    "version": 3
   },
   "file_extension": ".py",
   "mimetype": "text/x-python",
   "name": "python",
   "nbconvert_exporter": "python",
   "pygments_lexer": "ipython3",
   "version": "3.11.3"
  }
 },
 "nbformat": 4,
 "nbformat_minor": 5
}
